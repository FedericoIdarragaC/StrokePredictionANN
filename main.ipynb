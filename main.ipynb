{
 "metadata": {
  "language_info": {
   "codemirror_mode": {
    "name": "ipython",
    "version": 3
   },
   "file_extension": ".py",
   "mimetype": "text/x-python",
   "name": "python",
   "nbconvert_exporter": "python",
   "pygments_lexer": "ipython3",
   "version": "3.9.1-final"
  },
  "orig_nbformat": 2,
  "kernelspec": {
   "name": "python3",
   "display_name": "Python 3",
   "language": "python"
  }
 },
 "nbformat": 4,
 "nbformat_minor": 2,
 "cells": [
  {
   "cell_type": "code",
   "execution_count": 229,
   "metadata": {},
   "outputs": [],
   "source": [
    "import torch\n",
    "from torchvision import transforms,datasets\n",
    "from torch.utils.data import WeightedRandomSampler\n",
    "\n",
    "from torch.autograd import Variable\n",
    "from sklearn import preprocessing\n",
    "import matplotlib.pyplot as plt\n",
    "import pandas as pd\n",
    "import numpy as np"
   ]
  },
  {
   "cell_type": "code",
   "execution_count": 230,
   "metadata": {},
   "outputs": [
    {
     "output_type": "stream",
     "name": "stdout",
     "text": [
      "<class 'pandas.core.frame.DataFrame'>\nRangeIndex: 5110 entries, 0 to 5109\nData columns (total 11 columns):\n #   Column             Non-Null Count  Dtype  \n---  ------             --------------  -----  \n 0   gender             5110 non-null   object \n 1   age                5110 non-null   float64\n 2   hypertension       5110 non-null   int64  \n 3   heart_disease      5110 non-null   int64  \n 4   ever_married       5110 non-null   object \n 5   work_type          5110 non-null   object \n 6   Residence_type     5110 non-null   object \n 7   avg_glucose_level  5110 non-null   float64\n 8   bmi                4909 non-null   float64\n 9   smoking_status     5110 non-null   object \n 10  stroke             5110 non-null   int64  \ndtypes: float64(3), int64(3), object(5)\nmemory usage: 439.3+ KB\nNone\n"
     ]
    },
    {
     "output_type": "execute_result",
     "data": {
      "text/plain": [
       "28.893236911794666"
      ]
     },
     "metadata": {},
     "execution_count": 230
    }
   ],
   "source": [
    "dataset_csv = pd.read_csv('healthcare-dataset-stroke-data.csv')\n",
    "del dataset_csv['id']\n",
    "print(dataset_csv.info())\n",
    "dataset_csv['bmi'].mean()"
   ]
  },
  {
   "cell_type": "code",
   "execution_count": 231,
   "metadata": {},
   "outputs": [],
   "source": [
    "dataset_csv['gender'] = dataset_csv['gender'].replace(['Male','Female','Other'],[0,1,2]) \n",
    "\n",
    "dataset_csv['work_type'] = dataset_csv['work_type'].replace(['Private','Self-employed','children','Govt_job','Never_worked'],[0,1,2,3,4])\n",
    "\n",
    "dataset_csv['Residence_type'] = dataset_csv['work_type'].replace(['Rural','Urban'],[0,1])\n",
    "\n",
    "dataset_csv['smoking_status'] = dataset_csv['smoking_status'].replace(['never smoked','Unknown','formerly smoked','smokes'],[0,1,2,3])\n",
    "\n",
    "dataset_csv['ever_married'] = dataset_csv['ever_married'].replace(['Yes','No'],[1,0])\n",
    "\n",
    "dataset_csv['Residence_type'] = dataset_csv['Residence_type'].replace(['Urban','Rural'],[0,1])\n",
    "\n",
    "dataset_csv['bmi'] = dataset_csv['bmi'].fillna(dataset_csv['bmi'].mean())\n",
    "dataset_csv = dataset_csv.astype('float')"
   ]
  },
  {
   "cell_type": "code",
   "execution_count": 232,
   "metadata": {},
   "outputs": [
    {
     "output_type": "stream",
     "name": "stdout",
     "text": [
      "<class 'pandas.core.frame.DataFrame'>\nRangeIndex: 5110 entries, 0 to 5109\nData columns (total 11 columns):\n #   Column             Non-Null Count  Dtype  \n---  ------             --------------  -----  \n 0   gender             5110 non-null   float64\n 1   age                5110 non-null   float64\n 2   hypertension       5110 non-null   float64\n 3   heart_disease      5110 non-null   float64\n 4   ever_married       5110 non-null   float64\n 5   work_type          5110 non-null   float64\n 6   Residence_type     5110 non-null   float64\n 7   avg_glucose_level  5110 non-null   float64\n 8   bmi                5110 non-null   float64\n 9   smoking_status     5110 non-null   float64\n 10  stroke             5110 non-null   float64\ndtypes: float64(11)\nmemory usage: 439.3 KB\nNone\n"
     ]
    }
   ],
   "source": [
    "print(dataset_csv.info())"
   ]
  },
  {
   "cell_type": "code",
   "execution_count": 233,
   "metadata": {
    "tags": []
   },
   "outputs": [],
   "source": [
    "\n",
    "dataX = dataset_csv.values[:,:-1]\n",
    "norm = preprocessing.MinMaxScaler().fit(dataX)\n",
    "dataX = norm.transform(dataX)\n",
    "\n",
    "dataY = dataset_csv.values[:,-1]\n",
    "dataY = dataY.reshape(-1,1)"
   ]
  },
  {
   "cell_type": "code",
   "execution_count": 234,
   "metadata": {},
   "outputs": [],
   "source": [
    "from torch.utils.data import Dataset, DataLoader\n",
    "class dataset(Dataset):\n",
    "  def __init__(self,x,y):\n",
    "    self.x = torch.tensor(x,dtype=torch.float64)\n",
    "    self.y = torch.tensor(y,dtype=torch.float64)\n",
    "    self.length = self.x.shape[0]\n",
    "\n",
    "  def __getitem__(self,idx):\n",
    "    return self.x[idx],self.y[idx]\n",
    "  def __len__(self):\n",
    "    return self.length\n",
    "\n",
    "trainset = dataset(dataX,dataY)\n",
    "#DataLoader"
   ]
  },
  {
   "cell_type": "code",
   "execution_count": 365,
   "metadata": {
    "tags": []
   },
   "outputs": [],
   "source": [
    "class_weights = [1,15]\n",
    "sample_weights = [0] * len(trainset)\n",
    "\n",
    "for i,(x,y) in enumerate(trainset):\n",
    "    class_weight = class_weights[int(y)]\n",
    "    sample_weights[i] = class_weight\n",
    "\n",
    "sampler = WeightedRandomSampler(sample_weights,num_samples=len(sample_weights),replacement=True)\n",
    "\n",
    "trainloader = DataLoader(trainset,batch_size=10,sampler=sampler,shuffle=False)"
   ]
  },
  {
   "cell_type": "code",
   "execution_count": 366,
   "metadata": {},
   "outputs": [],
   "source": [
    "import torch.nn as nn\n",
    "import torch.nn.functional as F"
   ]
  },
  {
   "cell_type": "code",
   "execution_count": 367,
   "metadata": {},
   "outputs": [],
   "source": [
    "#Neural net\n",
    "class Net(nn.Module):\n",
    "  def __init__(self):\n",
    "    super(Net,self).__init__()\n",
    "    self.fc1 = nn.Linear(10,30)\n",
    "    self.fc2 = nn.Linear(30,20)\n",
    "    self.fc3 = nn.Linear(20,10)\n",
    "    self.fc4 = nn.Linear(10,1)\n",
    "\n",
    "  def forward(self,x):\n",
    "    x = torch.relu(self.fc1(x))\n",
    "    x = torch.relu(self.fc2(x))\n",
    "    x = torch.relu(self.fc3(x))\n",
    "    x = torch.sigmoid(self.fc4(x))\n",
    "    return x"
   ]
  },
  {
   "cell_type": "code",
   "execution_count": 368,
   "metadata": {
    "tags": []
   },
   "outputs": [
    {
     "output_type": "stream",
     "name": "stderr",
     "text": [
      "<ipython-input-368-0314f8d0c006>:14: UserWarning: To copy construct from a tensor, it is recommended to use sourceTensor.clone().detach() or sourceTensor.clone().detach().requires_grad_(True), rather than torch.tensor(sourceTensor).\n",
      "  x_train = torch.tensor(x_train,dtype=torch.float32)\n",
      "<ipython-input-368-0314f8d0c006>:15: UserWarning: To copy construct from a tensor, it is recommended to use sourceTensor.clone().detach() or sourceTensor.clone().detach().requires_grad_(True), rather than torch.tensor(sourceTensor).\n",
      "  y_train = torch.tensor(y_train,dtype=torch.float32)\n",
      "tensor(0.3406, grad_fn=<BinaryCrossEntropyBackward>)\n",
      "tensor(0.6826, grad_fn=<BinaryCrossEntropyBackward>)\n",
      "tensor(0.4164, grad_fn=<BinaryCrossEntropyBackward>)\n",
      "tensor(0.7376, grad_fn=<BinaryCrossEntropyBackward>)\n",
      "tensor(0.5171, grad_fn=<BinaryCrossEntropyBackward>)\n",
      "tensor(0.2815, grad_fn=<BinaryCrossEntropyBackward>)\n",
      "tensor(0.5336, grad_fn=<BinaryCrossEntropyBackward>)\n",
      "tensor(0.7013, grad_fn=<BinaryCrossEntropyBackward>)\n",
      "tensor(0.4385, grad_fn=<BinaryCrossEntropyBackward>)\n",
      "tensor(0.2254, grad_fn=<BinaryCrossEntropyBackward>)\n"
     ]
    }
   ],
   "source": [
    "model = Net()\n",
    "\n",
    "optimizer = torch.optim.Adam(model.parameters(), lr=0.001)\n",
    "criterion = nn.BCELoss()\n",
    "\n",
    "#Training\n",
    "epochs = 10\n",
    "losses = []\n",
    "\n",
    "cont = []\n",
    "c = 0\n",
    "for ep in range(epochs):\n",
    "  for x_train,y_train in trainloader:\n",
    "    x_train = torch.tensor(x_train,dtype=torch.float32)\n",
    "    y_train = torch.tensor(y_train,dtype=torch.float32)\n",
    "    \n",
    "    optimizer.zero_grad()\n",
    "    \n",
    "    y_hat = model(x_train)\n",
    "    loss = criterion(y_hat,y_train.view(-1,1))\n",
    "    loss.backward()\n",
    "    optimizer.step()\n",
    "\n",
    "    losses.append(loss.data.numpy())\n",
    "    \n",
    "    c += 1\n",
    "    cont.append([c])\n",
    "  print(loss)"
   ]
  },
  {
   "cell_type": "code",
   "execution_count": 369,
   "metadata": {},
   "outputs": [
    {
     "output_type": "stream",
     "name": "stdout",
     "text": [
      "[0.5        0.98779297 1.         0.         1.         0.\n 0.         0.11684055 0.22222222 0.        ]\ntensor([0.5642], grad_fn=<SigmoidBackward>) [1.]\ntensor([0.1902], grad_fn=<SigmoidBackward>) [0.]\n"
     ]
    }
   ],
   "source": [
    "print(dataX[10])\n",
    "print(model(torch.tensor(dataX[6],dtype=torch.float32)),dataY[6])\n",
    "print(model(torch.tensor(dataX[2000],dtype=torch.float32)),dataY[2000])"
   ]
  },
  {
   "cell_type": "code",
   "execution_count": 370,
   "metadata": {
    "tags": []
   },
   "outputs": [
    {
     "output_type": "stream",
     "name": "stderr",
     "text": [
      "<ipython-input-370-9b3704dd905b>:12: UserWarning: To copy construct from a tensor, it is recommended to use sourceTensor.clone().detach() or sourceTensor.clone().detach().requires_grad_(True), rather than torch.tensor(sourceTensor).\n",
      "  X = torch.tensor(X,dtype=torch.float32)\n",
      "<ipython-input-370-9b3704dd905b>:13: UserWarning: To copy construct from a tensor, it is recommended to use sourceTensor.clone().detach() or sourceTensor.clone().detach().requires_grad_(True), rather than torch.tensor(sourceTensor).\n",
      "  y = torch.tensor(y,dtype=torch.float32)\n",
      "Acurracy:  0.7735812133072407\n",
      "Correct_1: 207 Incorrect_1: 1115\n",
      "Correct_0: 3746 Incorrect_0: 42\n"
     ]
    }
   ],
   "source": [
    "#testing\n",
    "correct = 0\n",
    "correct_1 = 0\n",
    "incorrect_1 = 0\n",
    "correct_0 = 0\n",
    "incorrect_0 = 0\n",
    "\n",
    "total = 0\n",
    "\n",
    "with torch.no_grad():\n",
    "    for X,y in trainset:\n",
    "        X = torch.tensor(X,dtype=torch.float32)\n",
    "        y = torch.tensor(y,dtype=torch.float32)\n",
    "\n",
    "        output = model(X)\n",
    "        for idx, i in enumerate(output):\n",
    "            if (i>0.5): \n",
    "                pred=1 \n",
    "            else: \n",
    "                pred=0\n",
    "            #print(i,res,y[idx])\n",
    "            if pred == y[idx]:\n",
    "                correct += 1\n",
    "\n",
    "            if (pred == 1) and (y[idx]==1):\n",
    "                correct_1 += 1\n",
    "            if (pred == 1) and (y[idx]==0):\n",
    "                incorrect_1 += 1\n",
    "\n",
    "            if (pred == 0) and (y[idx]==0):\n",
    "                correct_0 += 1\n",
    "            if (pred == 0) and (y[idx]==1):\n",
    "                incorrect_0 += 1\n",
    "\n",
    "            total += 1\n",
    "\n",
    "print(\"Acurracy: \",correct/total)\n",
    "print(\"Correct_1:\",correct_1, \"Incorrect_1:\",incorrect_1)\n",
    "print(\"Correct_0:\",correct_0, \"Incorrect_0:\",incorrect_0)\n"
   ]
  },
  {
   "cell_type": "code",
   "execution_count": null,
   "metadata": {},
   "outputs": [],
   "source": []
  }
 ]
}