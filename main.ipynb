{
 "metadata": {
  "language_info": {
   "codemirror_mode": {
    "name": "ipython",
    "version": 3
   },
   "file_extension": ".py",
   "mimetype": "text/x-python",
   "name": "python",
   "nbconvert_exporter": "python",
   "pygments_lexer": "ipython3",
   "version": "3.9.1-final"
  },
  "orig_nbformat": 2,
  "kernelspec": {
   "name": "python3",
   "display_name": "Python 3",
   "language": "python"
  }
 },
 "nbformat": 4,
 "nbformat_minor": 2,
 "cells": [
  {
   "cell_type": "code",
   "execution_count": 2,
   "metadata": {},
   "outputs": [],
   "source": [
    "import torch\n",
    "from torchvision import transforms,datasets\n",
    "from torch.utils.data import WeightedRandomSampler\n",
    "\n",
    "from torch.autograd import Variable\n",
    "from sklearn import preprocessing\n",
    "import matplotlib.pyplot as plt\n",
    "import pandas as pd\n",
    "import numpy as np"
   ]
  },
  {
   "cell_type": "code",
   "execution_count": 3,
   "metadata": {},
   "outputs": [
    {
     "output_type": "stream",
     "name": "stdout",
     "text": [
      "<class 'pandas.core.frame.DataFrame'>\nRangeIndex: 5110 entries, 0 to 5109\nData columns (total 11 columns):\n #   Column             Non-Null Count  Dtype  \n---  ------             --------------  -----  \n 0   gender             5110 non-null   object \n 1   age                5110 non-null   float64\n 2   hypertension       5110 non-null   int64  \n 3   heart_disease      5110 non-null   int64  \n 4   ever_married       5110 non-null   object \n 5   work_type          5110 non-null   object \n 6   Residence_type     5110 non-null   object \n 7   avg_glucose_level  5110 non-null   float64\n 8   bmi                4909 non-null   float64\n 9   smoking_status     5110 non-null   object \n 10  stroke             5110 non-null   int64  \ndtypes: float64(3), int64(3), object(5)\nmemory usage: 439.3+ KB\nNone\n"
     ]
    },
    {
     "output_type": "execute_result",
     "data": {
      "text/plain": [
       "28.893236911794666"
      ]
     },
     "metadata": {},
     "execution_count": 3
    }
   ],
   "source": [
    "dataset_csv = pd.read_csv('healthcare-dataset-stroke-data.csv')\n",
    "del dataset_csv['id']\n",
    "print(dataset_csv.info())\n",
    "dataset_csv['bmi'].mean()"
   ]
  },
  {
   "cell_type": "code",
   "execution_count": 4,
   "metadata": {},
   "outputs": [],
   "source": [
    "dataset_csv['gender'] = dataset_csv['gender'].replace(['Male','Female','Other'],[0,1,2]) \n",
    "\n",
    "dataset_csv['work_type'] = dataset_csv['work_type'].replace(['Private','Self-employed','children','Govt_job','Never_worked'],[0,1,2,3,4])\n",
    "\n",
    "dataset_csv['Residence_type'] = dataset_csv['work_type'].replace(['Rural','Urban'],[0,1])\n",
    "\n",
    "dataset_csv['smoking_status'] = dataset_csv['smoking_status'].replace(['never smoked','Unknown','formerly smoked','smokes'],[0,1,2,3])\n",
    "\n",
    "dataset_csv['ever_married'] = dataset_csv['ever_married'].replace(['Yes','No'],[1,0])\n",
    "\n",
    "dataset_csv['Residence_type'] = dataset_csv['Residence_type'].replace(['Urban','Rural'],[0,1])\n",
    "\n",
    "dataset_csv['bmi'] = dataset_csv['bmi'].fillna(dataset_csv['bmi'].mean())\n",
    "dataset_csv = dataset_csv.astype('float')"
   ]
  },
  {
   "cell_type": "code",
   "execution_count": 5,
   "metadata": {},
   "outputs": [
    {
     "output_type": "stream",
     "name": "stdout",
     "text": [
      "<class 'pandas.core.frame.DataFrame'>\nRangeIndex: 5110 entries, 0 to 5109\nData columns (total 11 columns):\n #   Column             Non-Null Count  Dtype  \n---  ------             --------------  -----  \n 0   gender             5110 non-null   float64\n 1   age                5110 non-null   float64\n 2   hypertension       5110 non-null   float64\n 3   heart_disease      5110 non-null   float64\n 4   ever_married       5110 non-null   float64\n 5   work_type          5110 non-null   float64\n 6   Residence_type     5110 non-null   float64\n 7   avg_glucose_level  5110 non-null   float64\n 8   bmi                5110 non-null   float64\n 9   smoking_status     5110 non-null   float64\n 10  stroke             5110 non-null   float64\ndtypes: float64(11)\nmemory usage: 439.3 KB\nNone\n"
     ]
    }
   ],
   "source": [
    "print(dataset_csv.info())"
   ]
  },
  {
   "cell_type": "code",
   "execution_count": 6,
   "metadata": {
    "tags": []
   },
   "outputs": [],
   "source": [
    "\n",
    "dataX = dataset_csv.values[:,:-1]\n",
    "norm = preprocessing.MinMaxScaler().fit(dataX)\n",
    "dataX = norm.transform(dataX)\n",
    "\n",
    "dataY = dataset_csv.values[:,-1]\n",
    "dataY = dataY.reshape(-1,1)"
   ]
  },
  {
   "cell_type": "code",
   "execution_count": 7,
   "metadata": {},
   "outputs": [],
   "source": [
    "from torch.utils.data import Dataset, DataLoader\n",
    "class dataset(Dataset):\n",
    "  def __init__(self,x,y):\n",
    "    self.x = torch.tensor(x,dtype=torch.float64)\n",
    "    self.y = torch.tensor(y,dtype=torch.float64)\n",
    "    self.length = self.x.shape[0]\n",
    "\n",
    "  def __getitem__(self,idx):\n",
    "    return self.x[idx],self.y[idx]\n",
    "  def __len__(self):\n",
    "    return self.length\n",
    "\n",
    "trainset = dataset(dataX,dataY)\n",
    "#DataLoader"
   ]
  },
  {
   "cell_type": "code",
   "execution_count": 31,
   "metadata": {
    "tags": []
   },
   "outputs": [],
   "source": [
    "class_weights = [1,10]\n",
    "sample_weights = [0] * len(trainset)\n",
    "\n",
    "for i,(x,y) in enumerate(trainset):\n",
    "    class_weight = class_weights[int(y)]\n",
    "    sample_weights[i] = class_weight\n",
    "\n",
    "sampler = WeightedRandomSampler(sample_weights,num_samples=len(sample_weights),replacement=True)\n",
    "\n",
    "trainloader = DataLoader(trainset,batch_size=10,sampler=sampler,shuffle=False)"
   ]
  },
  {
   "cell_type": "code",
   "execution_count": 32,
   "metadata": {},
   "outputs": [],
   "source": [
    "import torch.nn as nn\n",
    "import torch.nn.functional as F"
   ]
  },
  {
   "cell_type": "code",
   "execution_count": 33,
   "metadata": {},
   "outputs": [],
   "source": [
    "#Neural net\n",
    "class Net(nn.Module):\n",
    "  def __init__(self):\n",
    "    super(Net,self).__init__()\n",
    "    self.fc1 = nn.Linear(10,10)\n",
    "    self.fc3 = nn.Linear(10,1)\n",
    "\n",
    "  def forward(self,x):\n",
    "    x = torch.relu(self.fc1(x))\n",
    "    x = torch.sigmoid(self.fc3(x))\n",
    "    return x"
   ]
  },
  {
   "cell_type": "code",
   "execution_count": 34,
   "metadata": {
    "tags": []
   },
   "outputs": [
    {
     "output_type": "stream",
     "name": "stderr",
     "text": [
      "<ipython-input-34-953bc3e5d643>:14: UserWarning: To copy construct from a tensor, it is recommended to use sourceTensor.clone().detach() or sourceTensor.clone().detach().requires_grad_(True), rather than torch.tensor(sourceTensor).\n",
      "  x_train = torch.tensor(x_train,dtype=torch.float32)\n",
      "<ipython-input-34-953bc3e5d643>:15: UserWarning: To copy construct from a tensor, it is recommended to use sourceTensor.clone().detach() or sourceTensor.clone().detach().requires_grad_(True), rather than torch.tensor(sourceTensor).\n",
      "  y_train = torch.tensor(y_train,dtype=torch.float32)\n",
      "tensor(0.7307, grad_fn=<BinaryCrossEntropyBackward>) 511\n",
      "tensor(0.5533, grad_fn=<BinaryCrossEntropyBackward>) 1022\n",
      "tensor(0.2499, grad_fn=<BinaryCrossEntropyBackward>) 1533\n",
      "tensor(0.3169, grad_fn=<BinaryCrossEntropyBackward>) 2044\n",
      "tensor(0.3715, grad_fn=<BinaryCrossEntropyBackward>) 2555\n",
      "tensor(0.4181, grad_fn=<BinaryCrossEntropyBackward>) 3066\n"
     ]
    }
   ],
   "source": [
    "model = Net()\n",
    "\n",
    "optimizer = torch.optim.Adam(model.parameters(), lr=0.001)\n",
    "criterion = nn.BCELoss()\n",
    "\n",
    "#Training\n",
    "epochs = 6\n",
    "losses = []\n",
    "\n",
    "cont = []\n",
    "c = 0\n",
    "for ep in range(epochs):\n",
    "  for x_train,y_train in trainloader:\n",
    "    x_train = torch.tensor(x_train,dtype=torch.float32)\n",
    "    y_train = torch.tensor(y_train,dtype=torch.float32)\n",
    "    \n",
    "    optimizer.zero_grad()\n",
    "    \n",
    "    y_hat = model(x_train)\n",
    "    loss = criterion(y_hat,y_train.view(-1,1))\n",
    "    loss.backward()\n",
    "    optimizer.step()\n",
    "\n",
    "    losses.append(loss.data.numpy())\n",
    "    \n",
    "    c += 1\n",
    "    cont.append([c])\n",
    "  print(loss,c)"
   ]
  },
  {
   "cell_type": "code",
   "execution_count": 36,
   "metadata": {},
   "outputs": [
    {
     "output_type": "stream",
     "name": "stdout",
     "text": [
      "tensor([0.7251], grad_fn=<SigmoidBackward>) [1.]\ntensor([0.2926], grad_fn=<SigmoidBackward>) [0.]\n"
     ]
    }
   ],
   "source": [
    "print(model(torch.tensor(dataX[0],dtype=torch.float32)),dataY[0])\n",
    "print(model(torch.tensor(dataX[2000],dtype=torch.float32)),dataY[2000])"
   ]
  },
  {
   "cell_type": "code",
   "execution_count": null,
   "metadata": {},
   "outputs": [],
   "source": []
  }
 ]
}